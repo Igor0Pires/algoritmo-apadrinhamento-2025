{
 "cells": [
  {
   "cell_type": "markdown",
   "metadata": {},
   "source": [
    "# Desenvolvimento do algoritmo de apadrinhamento"
   ]
  },
  {
   "cell_type": "markdown",
   "metadata": {},
   "source": [
    "---"
   ]
  },
  {
   "cell_type": "code",
   "execution_count": 1,
   "metadata": {},
   "outputs": [],
   "source": [
    "import sys\n",
    "sys.path.append('../app')\n",
    "from main import (\n",
    "    filtro_colunas,\n",
    "    extrair_valores_unicos_ordenados,\n",
    "    gerar_matriz_interesse,\n",
    "    algoritmo_apadrinhamento_lp,\n",
    "    algoritmo_apadrinhamento_2024\n",
    ")\n",
    "import pandas as pd"
   ]
  },
  {
   "cell_type": "markdown",
   "metadata": {},
   "source": [
    "Importante suposições sobre o algoritmo função:\n",
    "1. Estrutura das Colunas:\n",
    "\n",
    "    O dataframe possui múltiplas colunas, e a função ```filtro_colunas``` espera que você forneça uma lista de índices de colunas para filtrar as colunas desejadas.\n",
    "\n",
    "2. Conteúdo das Células:\n",
    "\n",
    "    As células do dataframe podem conter valores separados por vírgulas. A função ```extrair_valores_unicos_ordenados``` divide as células em valores individuais com base nas vírgulas.\n",
    "\n",
    "3. Formato dos Dados:\n",
    "\n",
    "    As células contêm strings que podem ser divididas em múltiplos valores. A função ```extrair_valores_unicos_ordenados``` conta a frequência desses valores e os organiza.\n",
    "\n",
    "4. Colunas Relevantes:\n",
    "\n",
    "    A função ```extrair_valores_unicos_ordenados``` ignora a primeira coluna (df.columns[1:num]), sugerindo que a primeira coluna pode ser um índice ou uma coluna não relevante para a extração de valores únicos.\n",
    "\n",
    "5. Valores Únicos:\n",
    "\n",
    "    A função ```extrair_valores_unicos_ordenados``` está interessada em valores que aparecem mais de uma vez, removendo valores únicos ou vazios da lista final."
   ]
  },
  {
   "cell_type": "markdown",
   "metadata": {},
   "source": [
    "## Carregamento de dados\n"
   ]
  },
  {
   "cell_type": "code",
   "execution_count": 2,
   "metadata": {},
   "outputs": [],
   "source": [
    "# Arquivos de dados\n",
    "arquivo_afilhados = \"..\\\\dados\\\\afilhados.csv\"\n",
    "arquivo_padrinhos = \"..\\\\dados\\\\padrinhos.csv\"\n",
    "\n",
    "# Carregar dados\n",
    "df_afilhados = pd.read_csv(arquivo_afilhados)\n",
    "df_padrinhos = pd.read_csv(arquivo_padrinhos)\n"
   ]
  },
  {
   "cell_type": "code",
   "execution_count": 3,
   "metadata": {},
   "outputs": [
    {
     "name": "stdout",
     "output_type": "stream",
     "text": [
      "Afilhados:\n"
     ]
    },
    {
     "data": {
      "text/html": [
       "<div>\n",
       "<style scoped>\n",
       "    .dataframe tbody tr th:only-of-type {\n",
       "        vertical-align: middle;\n",
       "    }\n",
       "\n",
       "    .dataframe tbody tr th {\n",
       "        vertical-align: top;\n",
       "    }\n",
       "\n",
       "    .dataframe thead th {\n",
       "        text-align: right;\n",
       "    }\n",
       "</style>\n",
       "<table border=\"1\" class=\"dataframe\">\n",
       "  <thead>\n",
       "    <tr style=\"text-align: right;\">\n",
       "      <th></th>\n",
       "      <th>nome</th>\n",
       "      <th>interesse_1</th>\n",
       "      <th>interesse_2</th>\n",
       "      <th>interesse_3</th>\n",
       "    </tr>\n",
       "  </thead>\n",
       "  <tbody>\n",
       "    <tr>\n",
       "      <th>0</th>\n",
       "      <td>Ana</td>\n",
       "      <td>yoga, pilates, meditação, dança</td>\n",
       "      <td>culinária, gastronomia, enologia, mixologia</td>\n",
       "      <td>astronomia, astrofísica, cosmologia, espaço</td>\n",
       "    </tr>\n",
       "    <tr>\n",
       "      <th>1</th>\n",
       "      <td>Julia</td>\n",
       "      <td>futebol, basquete, vôlei, natação</td>\n",
       "      <td>culinária, gastronomia, enologia, mixologia</td>\n",
       "      <td>viagem, turismo, aventura, mochilão</td>\n",
       "    </tr>\n",
       "    <tr>\n",
       "      <th>2</th>\n",
       "      <td>Carla</td>\n",
       "      <td>futebol, basquete, vôlei, natação</td>\n",
       "      <td>cinema, teatro, música, dança</td>\n",
       "      <td>jardinagem, paisagismo, horticultura, botânica</td>\n",
       "    </tr>\n",
       "    <tr>\n",
       "      <th>3</th>\n",
       "      <td>Mariana</td>\n",
       "      <td>yoga, pilates, meditação, dança</td>\n",
       "      <td>leitura, escrita, poesia, literatura</td>\n",
       "      <td>viagem, turismo, aventura, mochilão</td>\n",
       "    </tr>\n",
       "  </tbody>\n",
       "</table>\n",
       "</div>"
      ],
      "text/plain": [
       "      nome                        interesse_1  \\\n",
       "0      Ana    yoga, pilates, meditação, dança   \n",
       "1    Julia  futebol, basquete, vôlei, natação   \n",
       "2    Carla  futebol, basquete, vôlei, natação   \n",
       "3  Mariana    yoga, pilates, meditação, dança   \n",
       "\n",
       "                                   interesse_2  \\\n",
       "0  culinária, gastronomia, enologia, mixologia   \n",
       "1  culinária, gastronomia, enologia, mixologia   \n",
       "2                cinema, teatro, música, dança   \n",
       "3         leitura, escrita, poesia, literatura   \n",
       "\n",
       "                                      interesse_3  \n",
       "0     astronomia, astrofísica, cosmologia, espaço  \n",
       "1             viagem, turismo, aventura, mochilão  \n",
       "2  jardinagem, paisagismo, horticultura, botânica  \n",
       "3             viagem, turismo, aventura, mochilão  "
      ]
     },
     "metadata": {},
     "output_type": "display_data"
    },
    {
     "name": "stdout",
     "output_type": "stream",
     "text": [
      "\n",
      "Padrinhos:\n"
     ]
    },
    {
     "data": {
      "text/html": [
       "<div>\n",
       "<style scoped>\n",
       "    .dataframe tbody tr th:only-of-type {\n",
       "        vertical-align: middle;\n",
       "    }\n",
       "\n",
       "    .dataframe tbody tr th {\n",
       "        vertical-align: top;\n",
       "    }\n",
       "\n",
       "    .dataframe thead th {\n",
       "        text-align: right;\n",
       "    }\n",
       "</style>\n",
       "<table border=\"1\" class=\"dataframe\">\n",
       "  <thead>\n",
       "    <tr style=\"text-align: right;\">\n",
       "      <th></th>\n",
       "      <th>nome</th>\n",
       "      <th>interesse_1</th>\n",
       "      <th>interesse_2</th>\n",
       "      <th>interesse_3</th>\n",
       "      <th>quantidade_afilhados</th>\n",
       "    </tr>\n",
       "  </thead>\n",
       "  <tbody>\n",
       "    <tr>\n",
       "      <th>0</th>\n",
       "      <td>João</td>\n",
       "      <td>yoga, pilates, meditação, dança</td>\n",
       "      <td>futebol, basquete, vôlei, natação</td>\n",
       "      <td>yoga, pilates, meditação, dança</td>\n",
       "      <td>3</td>\n",
       "    </tr>\n",
       "    <tr>\n",
       "      <th>1</th>\n",
       "      <td>Maria</td>\n",
       "      <td>culinária, gastronomia, enologia, mixologia</td>\n",
       "      <td>culinária, gastronomia, enologia, mixologia</td>\n",
       "      <td>leitura, escrita, poesia, literatura</td>\n",
       "      <td>7</td>\n",
       "    </tr>\n",
       "    <tr>\n",
       "      <th>2</th>\n",
       "      <td>José</td>\n",
       "      <td>astronomia, astrofísica, cosmologia, espaço</td>\n",
       "      <td>viagem, turismo, aventura, mochilão</td>\n",
       "      <td>viagem, turismo, aventura, mochilão</td>\n",
       "      <td>6</td>\n",
       "    </tr>\n",
       "    <tr>\n",
       "      <th>3</th>\n",
       "      <td>Pedro</td>\n",
       "      <td>futebol, basquete, vôlei, natação</td>\n",
       "      <td>leitura, escrita, poesia, literatura</td>\n",
       "      <td>astronomia, astrofísica, cosmologia, espaço</td>\n",
       "      <td>1</td>\n",
       "    </tr>\n",
       "  </tbody>\n",
       "</table>\n",
       "</div>"
      ],
      "text/plain": [
       "    nome                                  interesse_1  \\\n",
       "0   João              yoga, pilates, meditação, dança   \n",
       "1  Maria  culinária, gastronomia, enologia, mixologia   \n",
       "2   José  astronomia, astrofísica, cosmologia, espaço   \n",
       "3  Pedro            futebol, basquete, vôlei, natação   \n",
       "\n",
       "                                   interesse_2  \\\n",
       "0            futebol, basquete, vôlei, natação   \n",
       "1  culinária, gastronomia, enologia, mixologia   \n",
       "2          viagem, turismo, aventura, mochilão   \n",
       "3         leitura, escrita, poesia, literatura   \n",
       "\n",
       "                                   interesse_3  quantidade_afilhados  \n",
       "0              yoga, pilates, meditação, dança                     3  \n",
       "1         leitura, escrita, poesia, literatura                     7  \n",
       "2          viagem, turismo, aventura, mochilão                     6  \n",
       "3  astronomia, astrofísica, cosmologia, espaço                     1  "
      ]
     },
     "metadata": {},
     "output_type": "display_data"
    }
   ],
   "source": [
    "print(\"Afilhados:\")\n",
    "display(df_afilhados.head())\n",
    "\n",
    "print(\"\\nPadrinhos:\")\n",
    "display(df_padrinhos.head())"
   ]
  },
  {
   "cell_type": "markdown",
   "metadata": {},
   "source": [
    "## Pré-processamento dos Dados\n"
   ]
  },
  {
   "cell_type": "markdown",
   "metadata": {},
   "source": [
    "---"
   ]
  },
  {
   "cell_type": "code",
   "execution_count": 4,
   "metadata": {},
   "outputs": [],
   "source": [
    "#Filtra as colunas necessárias para o algoritmo de apadrinhamento\n",
    "# Filtrar colunas\n",
    "indice_afilhados = [0,1,2,3]\n",
    "indice_padrinhos = [0,1,2,3,4]\n",
    "\n",
    "# Filtrar colunas\n",
    "df_afilhados = filtro_colunas(df_afilhados, indice_afilhados)\n",
    "df_padrinhos = filtro_colunas(df_padrinhos, indice_padrinhos)"
   ]
  },
  {
   "cell_type": "code",
   "execution_count": 5,
   "metadata": {},
   "outputs": [],
   "source": [
    "# Transformando todas as células em string\n",
    "df_afilhados = df_afilhados.map(str)\n",
    "df_padrinhos.iloc[:, :-1] = df_padrinhos.iloc[:, :-1].map(str)"
   ]
  },
  {
   "cell_type": "code",
   "execution_count": 6,
   "metadata": {},
   "outputs": [
    {
     "name": "stdout",
     "output_type": "stream",
     "text": [
      "Afilhados após pré-processamento:\n"
     ]
    },
    {
     "data": {
      "text/html": [
       "<div>\n",
       "<style scoped>\n",
       "    .dataframe tbody tr th:only-of-type {\n",
       "        vertical-align: middle;\n",
       "    }\n",
       "\n",
       "    .dataframe tbody tr th {\n",
       "        vertical-align: top;\n",
       "    }\n",
       "\n",
       "    .dataframe thead th {\n",
       "        text-align: right;\n",
       "    }\n",
       "</style>\n",
       "<table border=\"1\" class=\"dataframe\">\n",
       "  <thead>\n",
       "    <tr style=\"text-align: right;\">\n",
       "      <th></th>\n",
       "      <th>nome</th>\n",
       "      <th>interesse_1</th>\n",
       "      <th>interesse_2</th>\n",
       "      <th>interesse_3</th>\n",
       "    </tr>\n",
       "  </thead>\n",
       "  <tbody>\n",
       "    <tr>\n",
       "      <th>0</th>\n",
       "      <td>Ana</td>\n",
       "      <td>yoga, pilates, meditação, dança</td>\n",
       "      <td>culinária, gastronomia, enologia, mixologia</td>\n",
       "      <td>astronomia, astrofísica, cosmologia, espaço</td>\n",
       "    </tr>\n",
       "    <tr>\n",
       "      <th>1</th>\n",
       "      <td>Julia</td>\n",
       "      <td>futebol, basquete, vôlei, natação</td>\n",
       "      <td>culinária, gastronomia, enologia, mixologia</td>\n",
       "      <td>viagem, turismo, aventura, mochilão</td>\n",
       "    </tr>\n",
       "    <tr>\n",
       "      <th>2</th>\n",
       "      <td>Carla</td>\n",
       "      <td>futebol, basquete, vôlei, natação</td>\n",
       "      <td>cinema, teatro, música, dança</td>\n",
       "      <td>jardinagem, paisagismo, horticultura, botânica</td>\n",
       "    </tr>\n",
       "    <tr>\n",
       "      <th>3</th>\n",
       "      <td>Mariana</td>\n",
       "      <td>yoga, pilates, meditação, dança</td>\n",
       "      <td>leitura, escrita, poesia, literatura</td>\n",
       "      <td>viagem, turismo, aventura, mochilão</td>\n",
       "    </tr>\n",
       "  </tbody>\n",
       "</table>\n",
       "</div>"
      ],
      "text/plain": [
       "      nome                        interesse_1  \\\n",
       "0      Ana    yoga, pilates, meditação, dança   \n",
       "1    Julia  futebol, basquete, vôlei, natação   \n",
       "2    Carla  futebol, basquete, vôlei, natação   \n",
       "3  Mariana    yoga, pilates, meditação, dança   \n",
       "\n",
       "                                   interesse_2  \\\n",
       "0  culinária, gastronomia, enologia, mixologia   \n",
       "1  culinária, gastronomia, enologia, mixologia   \n",
       "2                cinema, teatro, música, dança   \n",
       "3         leitura, escrita, poesia, literatura   \n",
       "\n",
       "                                      interesse_3  \n",
       "0     astronomia, astrofísica, cosmologia, espaço  \n",
       "1             viagem, turismo, aventura, mochilão  \n",
       "2  jardinagem, paisagismo, horticultura, botânica  \n",
       "3             viagem, turismo, aventura, mochilão  "
      ]
     },
     "metadata": {},
     "output_type": "display_data"
    },
    {
     "name": "stdout",
     "output_type": "stream",
     "text": [
      "\n",
      "Padrinhos após pré-processamento:\n"
     ]
    },
    {
     "data": {
      "text/html": [
       "<div>\n",
       "<style scoped>\n",
       "    .dataframe tbody tr th:only-of-type {\n",
       "        vertical-align: middle;\n",
       "    }\n",
       "\n",
       "    .dataframe tbody tr th {\n",
       "        vertical-align: top;\n",
       "    }\n",
       "\n",
       "    .dataframe thead th {\n",
       "        text-align: right;\n",
       "    }\n",
       "</style>\n",
       "<table border=\"1\" class=\"dataframe\">\n",
       "  <thead>\n",
       "    <tr style=\"text-align: right;\">\n",
       "      <th></th>\n",
       "      <th>nome</th>\n",
       "      <th>interesse_1</th>\n",
       "      <th>interesse_2</th>\n",
       "      <th>interesse_3</th>\n",
       "      <th>quantidade_afilhados</th>\n",
       "    </tr>\n",
       "  </thead>\n",
       "  <tbody>\n",
       "    <tr>\n",
       "      <th>0</th>\n",
       "      <td>João</td>\n",
       "      <td>yoga, pilates, meditação, dança</td>\n",
       "      <td>futebol, basquete, vôlei, natação</td>\n",
       "      <td>yoga, pilates, meditação, dança</td>\n",
       "      <td>3</td>\n",
       "    </tr>\n",
       "    <tr>\n",
       "      <th>1</th>\n",
       "      <td>Maria</td>\n",
       "      <td>culinária, gastronomia, enologia, mixologia</td>\n",
       "      <td>culinária, gastronomia, enologia, mixologia</td>\n",
       "      <td>leitura, escrita, poesia, literatura</td>\n",
       "      <td>7</td>\n",
       "    </tr>\n",
       "    <tr>\n",
       "      <th>2</th>\n",
       "      <td>José</td>\n",
       "      <td>astronomia, astrofísica, cosmologia, espaço</td>\n",
       "      <td>viagem, turismo, aventura, mochilão</td>\n",
       "      <td>viagem, turismo, aventura, mochilão</td>\n",
       "      <td>6</td>\n",
       "    </tr>\n",
       "    <tr>\n",
       "      <th>3</th>\n",
       "      <td>Pedro</td>\n",
       "      <td>futebol, basquete, vôlei, natação</td>\n",
       "      <td>leitura, escrita, poesia, literatura</td>\n",
       "      <td>astronomia, astrofísica, cosmologia, espaço</td>\n",
       "      <td>1</td>\n",
       "    </tr>\n",
       "  </tbody>\n",
       "</table>\n",
       "</div>"
      ],
      "text/plain": [
       "    nome                                  interesse_1  \\\n",
       "0   João              yoga, pilates, meditação, dança   \n",
       "1  Maria  culinária, gastronomia, enologia, mixologia   \n",
       "2   José  astronomia, astrofísica, cosmologia, espaço   \n",
       "3  Pedro            futebol, basquete, vôlei, natação   \n",
       "\n",
       "                                   interesse_2  \\\n",
       "0            futebol, basquete, vôlei, natação   \n",
       "1  culinária, gastronomia, enologia, mixologia   \n",
       "2          viagem, turismo, aventura, mochilão   \n",
       "3         leitura, escrita, poesia, literatura   \n",
       "\n",
       "                                   interesse_3  quantidade_afilhados  \n",
       "0              yoga, pilates, meditação, dança                     3  \n",
       "1         leitura, escrita, poesia, literatura                     7  \n",
       "2          viagem, turismo, aventura, mochilão                     6  \n",
       "3  astronomia, astrofísica, cosmologia, espaço                     1  "
      ]
     },
     "metadata": {},
     "output_type": "display_data"
    }
   ],
   "source": [
    "print(\"Afilhados após pré-processamento:\")\n",
    "display(df_afilhados.head())\n",
    "\n",
    "print(\"\\nPadrinhos após pré-processamento:\")\n",
    "display(df_padrinhos.head())"
   ]
  },
  {
   "cell_type": "markdown",
   "metadata": {},
   "source": [
    "# Realização do Match Batch\n"
   ]
  },
  {
   "cell_type": "markdown",
   "metadata": {},
   "source": [
    "---\n"
   ]
  },
  {
   "cell_type": "code",
   "execution_count": 7,
   "metadata": {},
   "outputs": [],
   "source": [
    "# Extrair valores únicos e ordenados e o indice do inicio de cada coluna\n",
    "colunas_afilhados, indice_inicio_colunas_afilhados = extrair_valores_unicos_ordenados(df_afilhados)\n",
    "colunas_padrinhos, indice_inicio_colunas_padrinhos = extrair_valores_unicos_ordenados(df_padrinhos, -1)\n",
    "\n",
    "# Cria um DataFrame vazio com as colunas extraidas\n",
    "df_padrinhos_dummy = pd.DataFrame(columns=colunas_padrinhos + ['Numero de afilhados'])\n",
    "df_afilhados_dummy = pd.DataFrame(columns=colunas_afilhados)"
   ]
  },
  {
   "cell_type": "code",
   "execution_count": 8,
   "metadata": {},
   "outputs": [],
   "source": [
    "# Gera um dataframe com as informações de interesse\n",
    "df_padrinhos_dummy = gerar_matriz_interesse(df_padrinhos, df_padrinhos_dummy, indice_inicio_colunas_padrinhos, 1)\n",
    "df_afilhados_dummy = gerar_matriz_interesse(df_afilhados, df_afilhados_dummy, indice_inicio_colunas_afilhados,0)"
   ]
  },
  {
   "cell_type": "code",
   "execution_count": 9,
   "metadata": {},
   "outputs": [
    {
     "data": {
      "text/html": [
       "<div>\n",
       "<style scoped>\n",
       "    .dataframe tbody tr th:only-of-type {\n",
       "        vertical-align: middle;\n",
       "    }\n",
       "\n",
       "    .dataframe tbody tr th {\n",
       "        vertical-align: top;\n",
       "    }\n",
       "\n",
       "    .dataframe thead th {\n",
       "        text-align: right;\n",
       "    }\n",
       "</style>\n",
       "<table border=\"1\" class=\"dataframe\">\n",
       "  <thead>\n",
       "    <tr style=\"text-align: right;\">\n",
       "      <th></th>\n",
       "      <th>Nome afilhado</th>\n",
       "      <th>Compatibilidade</th>\n",
       "      <th>Nome padrinho</th>\n",
       "    </tr>\n",
       "  </thead>\n",
       "  <tbody>\n",
       "    <tr>\n",
       "      <th>0</th>\n",
       "      <td>Ana</td>\n",
       "      <td>75.0</td>\n",
       "      <td>João</td>\n",
       "    </tr>\n",
       "    <tr>\n",
       "      <th>1</th>\n",
       "      <td>Julia</td>\n",
       "      <td>50.0</td>\n",
       "      <td>Maria</td>\n",
       "    </tr>\n",
       "    <tr>\n",
       "      <th>2</th>\n",
       "      <td>Carla</td>\n",
       "      <td>100.0</td>\n",
       "      <td>Pedro</td>\n",
       "    </tr>\n",
       "    <tr>\n",
       "      <th>3</th>\n",
       "      <td>Mariana</td>\n",
       "      <td>75.0</td>\n",
       "      <td>João</td>\n",
       "    </tr>\n",
       "  </tbody>\n",
       "</table>\n",
       "</div>"
      ],
      "text/plain": [
       "  Nome afilhado  Compatibilidade Nome padrinho\n",
       "0           Ana             75.0          João\n",
       "1         Julia             50.0         Maria\n",
       "2         Carla            100.0         Pedro\n",
       "3       Mariana             75.0          João"
      ]
     },
     "execution_count": 9,
     "metadata": {},
     "output_type": "execute_result"
    }
   ],
   "source": [
    "# Aplica o algoritmo de apadrinhamento com programação linear\n",
    "df_final_lp = algoritmo_apadrinhamento_lp(df_afilhados_dummy, df_padrinhos_dummy)\n",
    "df_final_lp"
   ]
  },
  {
   "cell_type": "code",
   "execution_count": 10,
   "metadata": {},
   "outputs": [
    {
     "data": {
      "text/html": [
       "<div>\n",
       "<style scoped>\n",
       "    .dataframe tbody tr th:only-of-type {\n",
       "        vertical-align: middle;\n",
       "    }\n",
       "\n",
       "    .dataframe tbody tr th {\n",
       "        vertical-align: top;\n",
       "    }\n",
       "\n",
       "    .dataframe thead th {\n",
       "        text-align: right;\n",
       "    }\n",
       "</style>\n",
       "<table border=\"1\" class=\"dataframe\">\n",
       "  <thead>\n",
       "    <tr style=\"text-align: right;\">\n",
       "      <th></th>\n",
       "      <th>Nome bixo</th>\n",
       "      <th>Compatibilidade</th>\n",
       "      <th>Nome padrinho</th>\n",
       "      <th>Distância</th>\n",
       "    </tr>\n",
       "  </thead>\n",
       "  <tbody>\n",
       "    <tr>\n",
       "      <th>0</th>\n",
       "      <td>Ana</td>\n",
       "      <td>75.0</td>\n",
       "      <td>Maria</td>\n",
       "      <td>4</td>\n",
       "    </tr>\n",
       "    <tr>\n",
       "      <th>1</th>\n",
       "      <td>Julia</td>\n",
       "      <td>50.0</td>\n",
       "      <td>Pedro</td>\n",
       "      <td>8</td>\n",
       "    </tr>\n",
       "    <tr>\n",
       "      <th>2</th>\n",
       "      <td>Carla</td>\n",
       "      <td>50.0</td>\n",
       "      <td>José</td>\n",
       "      <td>8</td>\n",
       "    </tr>\n",
       "    <tr>\n",
       "      <th>3</th>\n",
       "      <td>Mariana</td>\n",
       "      <td>75.0</td>\n",
       "      <td>José</td>\n",
       "      <td>4</td>\n",
       "    </tr>\n",
       "  </tbody>\n",
       "</table>\n",
       "</div>"
      ],
      "text/plain": [
       "  Nome bixo  Compatibilidade Nome padrinho  Distância\n",
       "0       Ana             75.0         Maria          4\n",
       "1     Julia             50.0         Pedro          8\n",
       "2     Carla             50.0          José          8\n",
       "3   Mariana             75.0          José          4"
      ]
     },
     "execution_count": 10,
     "metadata": {},
     "output_type": "execute_result"
    }
   ],
   "source": [
    "# Comparação simples com o algoritmo de apadrinhamento de 2024\n",
    "df_final_2024 = algoritmo_apadrinhamento_2024(df_afilhados_dummy, df_padrinhos_dummy)\n",
    "df_final_2024"
   ]
  },
  {
   "cell_type": "code",
   "execution_count": 11,
   "metadata": {},
   "outputs": [
    {
     "data": {
      "text/plain": [
       "\"df_final_lp.to_csv('resultado.csv', index=False)\""
      ]
     },
     "execution_count": 11,
     "metadata": {},
     "output_type": "execute_result"
    }
   ],
   "source": [
    "'''df_final_lp.to_csv('resultado.csv', index=False)'''"
   ]
  }
 ],
 "metadata": {
  "kernelspec": {
   "display_name": "Python 3",
   "language": "python",
   "name": "python3"
  },
  "language_info": {
   "codemirror_mode": {
    "name": "ipython",
    "version": 3
   },
   "file_extension": ".py",
   "mimetype": "text/x-python",
   "name": "python",
   "nbconvert_exporter": "python",
   "pygments_lexer": "ipython3",
   "version": "3.12.7"
  }
 },
 "nbformat": 4,
 "nbformat_minor": 2
}
